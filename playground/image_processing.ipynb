{
 "cells": [
  {
   "cell_type": "code",
   "execution_count": 3,
   "metadata": {},
   "outputs": [],
   "source": [
    "import base64\n",
    "from mimetypes import guess_type\n",
    "from openai import AzureOpenAI\n",
    "from image_processor import ImageProcessor\n",
    "import os\n",
    "import requests\n",
    "import base64\n",
    "from dotenv import load_dotenv"
   ]
  },
  {
   "cell_type": "code",
   "execution_count": 4,
   "metadata": {},
   "outputs": [],
   "source": [
    "load_dotenv()\n",
    "\n",
    "v_api_key = os.getenv(\"VISION_API_KEY\")\n",
    "v_api_endpoint = os.getenv(\"VISION_API_ENDPOINT\")"
   ]
  },
  {
   "cell_type": "code",
   "execution_count": 7,
   "metadata": {},
   "outputs": [],
   "source": [
    "image_processor = ImageProcessor(api_key=v_api_key, azure_endpoint= v_api_endpoint, api_version=\"2024-05-01-preview\")\n",
    "\n",
    "\n",
    "image_path = r\"C:\\Users\\U765123\\my_projects\\MINI_CHATBOT\\image.png\"\n",
    "\n",
    "description = image_processor.describe_image(image_path)"
   ]
  },
  {
   "cell_type": "code",
   "execution_count": 8,
   "metadata": {},
   "outputs": [
    {
     "name": "stdout",
     "output_type": "stream",
     "text": [
      "The image displays a user interface for a personalized GPT chatbot application. The top part of the interface features a logo followed by the title \"My Personal GPT Chatbot\". Below this, there is a section labeled \"Upload a File for Context\" with a button to choose a file, indicating no file is currently selected, and an \"Upload\" button. Beneath this, there is a larger section titled \"Chat with GPT\" featuring a large text box where users can type their questions\n"
     ]
    }
   ],
   "source": [
    "print(description)"
   ]
  }
 ],
 "metadata": {
  "kernelspec": {
   "display_name": ".venv",
   "language": "python",
   "name": "python3"
  },
  "language_info": {
   "codemirror_mode": {
    "name": "ipython",
    "version": 3
   },
   "file_extension": ".py",
   "mimetype": "text/x-python",
   "name": "python",
   "nbconvert_exporter": "python",
   "pygments_lexer": "ipython3",
   "version": "3.12.3"
  }
 },
 "nbformat": 4,
 "nbformat_minor": 2
}
